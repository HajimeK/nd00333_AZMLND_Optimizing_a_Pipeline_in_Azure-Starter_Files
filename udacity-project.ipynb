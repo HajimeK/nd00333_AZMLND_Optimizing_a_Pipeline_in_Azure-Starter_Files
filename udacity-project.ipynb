{
 "cells": [
  {
   "cell_type": "code",
   "execution_count": null,
   "metadata": {
    "gather": {
     "logged": 1598275788035
    }
   },
   "outputs": [],
   "source": [
    "from azureml.core import Workspace, Experiment\n",
    "\n",
    "ws = Workspace.get(name=\"udacity-project\")\n",
    "exp = Experiment(workspace=ws, name=\"udacity-project\")\n",
    "\n",
    "print('Workspace name: ' + ws.name, \n",
    "      'Azure region: ' + ws.location, \n",
    "      'Subscription id: ' + ws.subscription_id, \n",
    "      'Resource group: ' + ws.resource_group, sep = '\\n')\n",
    "\n",
    "run = exp.start_logging()"
   ]
  },
  {
   "cell_type": "code",
   "execution_count": null,
   "metadata": {
    "gather": {
     "logged": 1598275788675
    },
    "jupyter": {
     "outputs_hidden": false,
     "source_hidden": false
    },
    "nteract": {
     "transient": {
      "deleting": false
     }
    }
   },
   "outputs": [],
   "source": [
    "from azureml.core.compute import ComputeTarget, AmlCompute\r\n",
    "from azureml.core.compute_target import ComputeTargetException\r\n",
    "\r\n",
    "# TODO: Create compute cluster\r\n",
    "# Use vm_size = \"Standard_D2_V2\" in your provisioning configuration.\r\n",
    "# max_nodes should be no greater than 4.\r\n",
    "\r\n",
    "### YOUR CODE HERE ###\r\n",
    "cpu_cluster_name = \"cpu-cluster\"\r\n",
    "\r\n",
    "# Verify that the cluster does not exist already\r\n",
    "try:\r\n",
    "    cpu_cluster = ComputeTarget(workspace=ws, name=cpu_cluster_name)\r\n",
    "    print('Found existing cluster, use it.')\r\n",
    "except ComputeTargetException:\r\n",
    "    compute_config = AmlCompute.provisioning_configuration(vm_size='STANDARD_D2_V2',\r\n",
    "                                                           max_nodes=4, \r\n",
    "                                                           idle_seconds_before_scaledown=2400)\r\n",
    "    cpu_cluster = ComputeTarget.create(ws, cpu_cluster_name, compute_config)\r\n",
    "\r\n",
    "cpu_cluster.wait_for_completion(show_output=True)"
   ]
  },
  {
   "cell_type": "code",
   "execution_count": null,
   "metadata": {
    "gather": {
     "logged": 1598275789986
    },
    "jupyter": {
     "outputs_hidden": false,
     "source_hidden": false
    },
    "nteract": {
     "transient": {
      "deleting": false
     }
    }
   },
   "outputs": [],
   "source": [
    "from azureml.widgets import RunDetails\r\n",
    "from azureml.train.sklearn import SKLearn\r\n",
    "from azureml.train.hyperdrive.run import PrimaryMetricGoal\r\n",
    "from azureml.train.hyperdrive.policy import BanditPolicy\r\n",
    "from azureml.train.hyperdrive.sampling import RandomParameterSampling\r\n",
    "from azureml.train.hyperdrive.runconfig import HyperDriveConfig\r\n",
    "from azureml.train.hyperdrive.parameter_expressions import uniform\r\n",
    "from azureml.core import ScriptRunConfig\r\n",
    "import os\r\n",
    "\r\n",
    "# Specify parameter sampler\r\n",
    "ps = RandomParameterSampling( {\r\n",
    "    \"--C\": uniform(0.1, 1.0),\r\n",
    "    \"--max_iter\": choice(range(1, 100))\r\n",
    "    }\r\n",
    ")\r\n",
    "\r\n",
    "# Specify a Policy\r\n",
    "# The BanditPolicy basically states to check the job every 2 iterations.\r\n",
    "# If the primary metric (defined later) falls outside of the top 10% range, Azure ML terminate the job.\r\n",
    "# More accurately, any run whose best metric is less than (1/(1+0.1) or 91% of the best performing run will be terminated.\r\n",
    "policy = BanditPolicy(slack_factor=0.1, evaluation_interval=2)\r\n",
    "\r\n",
    "# Create a SKLearn estimator for use with train.py\r\n",
    "# https://docs.microsoft.com/ja-jp/python/api/azureml-train-core/azureml.train.sklearn.sklearn?view=azure-ml-py\r\n",
    "est = SKLearn(source_directory=\"./\",\r\n",
    "            entry_script=\"train.py\",\r\n",
    "            compute_tarxsget=\"cpu_cluster\")\r\n",
    "\r\n",
    "# Create a HyperDriveConfig using the estimator, hyperparameter sampler, and policy.\r\n",
    "hyperdrive_config = HyperDriveConfig(hyperparameter_sampling = ps,\r\n",
    "                                    primary_metric_name = 'accuracy',\r\n",
    "                                    primary_metric_goal = PrimaryMetricGoal.MAXIMIZE,\r\n",
    "                                    max_total_runs = 100,\r\n",
    "                                    max_concurrent_runs= 4,\r\n",
    "                                    max_duration_minutes=10080,\r\n",
    "                                    policy=policy,\r\n",
    "                                    estimator=est,\r\n",
    "                                    run_config=None,\r\n",
    "                                    resume_from=None,\r\n",
    "                                    resume_child_runs=None,\r\n",
    "                                    pipeline=None,\r\n",
    "                                    debug_flag=None)"
   ]
  },
  {
   "cell_type": "code",
   "execution_count": null,
   "metadata": {},
   "outputs": [],
   "source": [
    "from azureml.widgets import RunDetails\r\n",
    "# Submit your hyperdrive run to the experiment and show run details with the widget.\r\n",
    "# https://github.com/MicrosoftDocs/azure-docs/blob/master/articles/machine-learning/how-to-tune-hyperparameters.md#submit-hyperparameter-tuning-experiment\r\n",
    "hyperdrive_run = exp.submit(hyperdrive_config, show_output = False)\r\n",
    "# cf. https://docs.microsoft.com/ja-jp/python/api/azureml-widgets/azureml.widgets.rundetails?view=azure-ml-py\r\n",
    "# cf. https://github.com/Azure/MachineLearningNotebooks/blob/master/how-to-use-azureml/automated-machine-learning/classification-credit-card-fraud/auto-ml-classification-credit-card-fraud.ipynb\r\n",
    "RunDetails(hyperdrive_run).show()\r\n",
    "hyperdrive_run.wait_for_completion(show_output = True)"
   ]
  },
  {
   "cell_type": "code",
   "execution_count": null,
   "metadata": {
    "gather": {
     "logged": 1598276310862
    },
    "jupyter": {
     "outputs_hidden": false,
     "source_hidden": false
    },
    "nteract": {
     "transient": {
      "deleting": false
     }
    }
   },
   "outputs": [],
   "source": [
    "import joblib\r\n",
    "# Get your best run and save the model from that run.\r\n",
    "# cf. https://docs.microsoft.com/ja-jp/python/api/azureml-train-core/azureml.train.hyperdrive.hyperdriverun?view=azure-ml-py#get-best-run-by-primary-metric-include-failed-true--include-canceled-true--include-resume-from-runs-true-----typing-union-azureml-core-run-run--nonetype-\r\n",
    "best_run = hyperdrive_run.get_best_run_by_primary_metric(include_failed = False,\r\n",
    "                                            include_canceled=False,\r\n",
    "                                            include_resume_from_runs=True)\r\n",
    "print(best_run.get_metris())\r\n",
    "joblib.dump(best_run, './hyperdrive_best_run.joblib', compress = 3)"
   ]
  },
  {
   "cell_type": "code",
   "execution_count": null,
   "metadata": {},
   "outputs": [],
   "source": [
    "from azureml.data.dataset_factory import TabularDatasetFactory\r\n",
    "\r\n",
    "# Create TabularDataset using TabularDatasetFactory\r\n",
    "# Data is available at: \r\n",
    "# \"https://automlsamplenotebookdata.blob.core.windows.net/automl-sample-notebook-data/bankmarketing_train.csv\"\r\n",
    "\r\n",
    "dataset_url = \"https://automlsamplenotebookdata.blob.core.windows.net/automl-sample-notebook-data/bankmarketing_train.csv\"\r\n",
    "dataset = TabularDatasetFactory.from_delimited_files(dataset_url,\r\n",
    "                                                    separator = ',',\r\n",
    "                                                    encoding = 'utf8')"
   ]
  },
  {
   "cell_type": "code",
   "execution_count": null,
   "metadata": {
    "gather": {
     "logged": 1598275726969
    },
    "jupyter": {
     "outputs_hidden": false,
     "source_hidden": false
    },
    "nteract": {
     "transient": {
      "deleting": false
     }
    }
   },
   "outputs": [],
   "source": [
    "\r\n",
    "from train import clean_data\r\n",
    "\r\n",
    "# Use the clean_data function to clean your data.\r\n",
    "x, y = clean_data(dataset)\r\n",
    "training_data, validation_data = dataset.random_split(percentage=0.8, seed=1)"
   ]
  },
  {
   "cell_type": "code",
   "execution_count": null,
   "metadata": {
    "gather": {
     "logged": 1598275665403
    },
    "jupyter": {
     "outputs_hidden": false,
     "source_hidden": false
    },
    "nteract": {
     "transient": {
      "deleting": false
     }
    }
   },
   "outputs": [],
   "source": [
    "from azureml.train.automl import AutoMLConfig\r\n",
    "\r\n",
    "# Set parameters for AutoMLConfig\r\n",
    "# NOTE: DO NOT CHANGE THE experiment_timeout_minutes PARAMETER OR YOUR INSTANCE WILL TIME OUT.\r\n",
    "# If you wish to run the experiment longer, you will need to run this notebook in your own\r\n",
    "# Azure tenant, which will incur personal costs.\r\n",
    "# cf. https://docs.microsoft.com/ja-jp/python/api/azureml-train-automl-client/azureml.train.automl.automlconfig.automlconfig?view=azure-ml-py\r\n",
    "automl_config = AutoMLConfig(\r\n",
    "    experiment_timeout_minutes = 30,\r\n",
    "    task = 'classification',\r\n",
    "    primary_metric = 'accuracy',\r\n",
    "    training_data = training_data,\r\n",
    "    valudation_data = validation_data,\r\n",
    "    label_column_name = 'y',\r\n",
    "    n_cross_validations = 5)"
   ]
  },
  {
   "cell_type": "code",
   "execution_count": 2,
   "metadata": {
    "jupyter": {
     "outputs_hidden": false,
     "source_hidden": false
    },
    "nteract": {
     "transient": {
      "deleting": false
     }
    }
   },
   "outputs": [],
   "source": [
    "# Submit your automl run\r\n",
    "\r\n",
    "autoMLExp = Experiment(workspace=ws, name=\"udacity-project-automl\")\r\n",
    "automl_run = autoMLExp.submit(automl_config, show_output = False)"
   ]
  },
  {
   "cell_type": "code",
   "execution_count": null,
   "metadata": {},
   "outputs": [],
   "source": [
    "# Retrieve and save your best automl model.\r\n",
    "RunDetails(automl_run).show()\r\n",
    "automl_run.wait_for_completion(show_output = True)"
   ]
  },
  {
   "cell_type": "code",
   "execution_count": null,
   "metadata": {},
   "outputs": [],
   "source": [
    "automl_run = hyperdrive_run.get_best_run_by_primary_metric(include_failed = False,\r\n",
    "                                            include_canceled=False,\r\n",
    "                                            include_resume_from_runs=True)\r\n",
    "print(automl_run.get_metris())\r\n",
    "joblib.dump(automl_run, './automl_best_run.joblib', compress = 3)"
   ]
  }
 ],
 "metadata": {
  "interpreter": {
   "hash": "4c407b241b7cee8e7d041f11d24290d53e8db914799102f98d0559abba7b39e7"
  },
  "kernel_info": {
   "name": "python3-azureml"
  },
  "kernelspec": {
   "display_name": "Python 3.8.10 64-bit ('azul': conda)",
   "name": "python3"
  },
  "language_info": {
   "name": "python",
   "version": ""
  },
  "nteract": {
   "version": "nteract-front-end@1.0.0"
  }
 },
 "nbformat": 4,
 "nbformat_minor": 2
}